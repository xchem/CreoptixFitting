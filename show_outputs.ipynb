{
 "cells": [
  {
   "cell_type": "markdown",
   "id": "7c9f83a0-17ed-4508-b580-55fcc80c0ad2",
   "metadata": {},
   "source": [
    "# Example Notebook: Show Fitting Results\n",
    "\n",
    "This notebook shows how data from many fits can be aggregated"
   ]
  },
  {
   "cell_type": "code",
   "execution_count": null,
   "id": "11ff1a47-2ecc-4796-bb19-e0be3add650a",
   "metadata": {},
   "outputs": [],
   "source": [
    "import plotly.express as px # for plotting\n",
    "from pathlib import Path\n",
    "\n",
    "# import Max's helper functions\n",
    "from gcifit.notebook import show_outputs\n",
    "from gcifit.io import parse_all_summary_csvs, parse_all_map_pickles"
   ]
  },
  {
   "cell_type": "markdown",
   "id": "ca455cf6-8e6a-453b-91e9-0bdb3d5a5b52",
   "metadata": {},
   "source": [
    "## Define data\n",
    "\n",
    "Select the output directory to view"
   ]
  },
  {
   "cell_type": "code",
   "execution_count": null,
   "id": "2a094f8c-933f-452b-b321-43cd12d44b21",
   "metadata": {},
   "outputs": [],
   "source": [
    "data_dir = Path(\"../creoptix_test/out3\")"
   ]
  },
  {
   "cell_type": "markdown",
   "id": "550d0d94-f024-4180-914e-52b892551904",
   "metadata": {},
   "source": [
    "## Interactive view of outputs\n",
    "\n",
    "After running the fitting using SLURM, you can view all the outputs in a subdirectory by using the `show_outputs` function"
   ]
  },
  {
   "cell_type": "code",
   "execution_count": null,
   "id": "7291ee23-83cc-4d3f-ba84-9b3ef2300804",
   "metadata": {},
   "outputs": [],
   "source": [
    "show_outputs(data_dir)"
   ]
  },
  {
   "cell_type": "markdown",
   "id": "e081eeab-116f-4a66-b10e-7ed6b2de5f9e",
   "metadata": {},
   "source": [
    "## See MAP table\n",
    "\n",
    "The function `parse_all_map_pickles` loads all the *Maximum A Posteriori* (most likely) values for the fitting parameters and summarises them in a `pandas.DataFrame`. This can be manipulated for plotting or exported to Excel"
   ]
  },
  {
   "cell_type": "code",
   "execution_count": null,
   "id": "ff54eccb-ef6e-48c4-9f64-7073cf6e8eb9",
   "metadata": {},
   "outputs": [],
   "source": [
    "df = parse_all_map_pickles(data_dir)\n",
    "\n",
    "#transform the DataFrame for plotting/export\n",
    "df = df.reset_index()\n",
    "\n",
    "#export to excel\n",
    "df.to_excel(data_dir / \"maps.xlsx\")\n",
    "\n",
    "# show only the first part of the data, just use `df` if you want to see more\n",
    "df.head()"
   ]
  },
  {
   "cell_type": "markdown",
   "id": "058f1b14-7fc7-466e-8a8b-156821cc8425",
   "metadata": {},
   "source": [
    "## Plotting MAP values"
   ]
  },
  {
   "cell_type": "code",
   "execution_count": null,
   "id": "8f544218-6ea9-44db-b797-4875476f7ae8",
   "metadata": {},
   "outputs": [],
   "source": [
    "# scatter plot\n",
    "px.scatter(df, y=\"logKd\", x=\"log_sigma_Rt:02\", hover_data=df.columns)"
   ]
  },
  {
   "cell_type": "code",
   "execution_count": null,
   "id": "a7cac65f-93ae-4e6d-bf01-2dfb61872c66",
   "metadata": {},
   "outputs": [],
   "source": [
    "# histogram plot\n",
    "px.histogram(df, x=\"logKd\", log_y=False, hover_data=df.columns)"
   ]
  },
  {
   "cell_type": "code",
   "execution_count": null,
   "id": "11148c28-72b8-4534-820e-3c7ea011b95e",
   "metadata": {},
   "outputs": [],
   "source": []
  }
 ],
 "metadata": {
  "kernelspec": {
   "display_name": "Python 3 (ipykernel)",
   "language": "python",
   "name": "python3"
  },
  "language_info": {
   "codemirror_mode": {
    "name": "ipython",
    "version": 3
   },
   "file_extension": ".py",
   "mimetype": "text/x-python",
   "name": "python",
   "nbconvert_exporter": "python",
   "pygments_lexer": "ipython3",
   "version": "3.10.13"
  }
 },
 "nbformat": 4,
 "nbformat_minor": 5
}
